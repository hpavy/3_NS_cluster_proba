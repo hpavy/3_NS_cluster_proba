{
 "cells": [
  {
   "cell_type": "code",
   "execution_count": 1,
   "metadata": {},
   "outputs": [
    {
     "name": "stdout",
     "output_type": "stream",
     "text": [
      "cpu\n"
     ]
    }
   ],
   "source": [
    "# Avec Z et le choix des points avec une certaine proba\n",
    "from deepxrte.geometry import Rectangle\n",
    "import torch \n",
    "import torch.nn as nn \n",
    "import torch.optim as optim\n",
    "from matplotlib.animation import FuncAnimation\n",
    "from model import PINNs\n",
    "from utils import read_csv, write_csv\n",
    "from train import train\n",
    "from pathlib import Path\n",
    "import time \n",
    "import pandas as pd\n",
    "import numpy as np\n",
    "\n",
    "device = torch.device(\"cuda\" if torch.cuda.is_available() else \"cpu\")\n",
    "print(device)\n",
    "\n",
    "time_start = time.time()\n",
    "\n",
    "############# LES VARIABLES ################\n",
    "\n",
    "folder_result = '4_new_interval'  # le nom du dossier de résultat\n",
    "\n",
    "\n",
    "torch.manual_seed(42537)\n",
    "\n",
    "##### Le modèle de résolution de l'équation de la chaleur\n",
    "nb_itt = 6000      # le nb d'epoch\n",
    "resample_rate = 3000  # le taux de resampling\n",
    "display = 500       # le taux d'affichage\n",
    "poids = [1, 1]   # les poids pour la loss\n",
    "    \n",
    "n_data = 5000         # le nb de points initiaux\n",
    "n_pde = 5000          # le nb de points pour la pde\n",
    "\n",
    "n_data_test = 5000\n",
    "n_pde_test  = 5000\n",
    "\n",
    "Re = 100\n",
    "\n",
    "lr = 1e-4\n",
    "\n",
    "x_proba_max = 0.3\n",
    "x_proba_min = 0.03\n",
    "y_proba_max = 0.15\n",
    "y_proba_min = 0.05\n",
    "\n",
    "proba = 0.8\n",
    "\n",
    "##### Le code ###############################\n",
    "###############################################\n",
    "\n",
    "# La data\n",
    "df = pd.read_csv('data.csv')\n",
    "\n",
    "\n",
    "# On adimensionne la data\n",
    "df_modified = df[(df['Points:0']>= -0.07) & (df['Points:1']>= -0.1) & (df['Points:1']<= 0.1)]\n",
    "x, y, t = np.array(df_modified['Points:0']), np.array(df_modified['Points:1']), np.array(df_modified['Time'])\n",
    "u, v, p = np.array(df_modified['Velocity:0']), np.array(df_modified['Velocity:1']), np.array(df_modified['Pressure'])\n",
    "x = x-x.min()\n",
    "y = y-y.min()\n",
    "\n",
    "x_norm = (x-x.mean())/x.std()\n",
    "y_norm = (y-y.mean())/y.std()\n",
    "t_norm = (t-t.mean())/t.std()\n",
    "p_norm = (p-p.mean())/p.std()\n",
    "u_norm = (u-u.mean())/u.std()\n",
    "v_norm = (v-v.mean())/v.std()\n",
    "\n",
    "\n",
    "x_proba_norm_max = (x_proba_max-x.mean())/x.std()\n",
    "x_proba_norm_min = (x_proba_min-x.mean())/x.std()\n",
    "y_proba_norm_max = (y_proba_max-y.mean())/y.std()\n",
    "y_proba_norm_min = (y_proba_min-y.mean())/y.std()\n",
    "\n",
    "\n",
    "X = np.array([x_norm, y_norm, t_norm], dtype=np.float32).T\n",
    "U = np.array([u_norm, v_norm, p_norm], dtype=np.float32).T\n",
    "\n",
    "t_norm_min = t_norm.min()\n",
    "t_norm_max = t_norm.max()\n",
    "t_max = t.max()\n",
    "\n",
    "x_norm_max = x_norm.max()\n",
    "y_norm_max = y_norm.max()\n",
    "\n",
    "\n",
    "# On regarde si le dossier existe \n",
    "dossier = Path(folder_result)\n",
    "dossier.mkdir(parents=True, exist_ok=True)\n",
    "\n",
    "rectangle_proba = Rectangle(x_max = x_proba_norm_max, y_max = y_proba_norm_max,\n",
    "                      t_min=t_norm_min, t_max=t_norm_max)    # le domaine de plus haute proba \n",
    "\n",
    "rectangle = Rectangle(x_max = x_norm_max, y_max = y_norm_max,\n",
    "                      t_min=t_norm_min, t_max=t_norm_max)    # le domaine de résolution\n",
    "\n",
    "\n",
    "# les points initiaux du train \n",
    "# Les points de pde \n"
   ]
  },
  {
   "cell_type": "code",
   "execution_count": 2,
   "metadata": {},
   "outputs": [],
   "source": [
    "\n",
    "### Pour train\n",
    "points_pde_proba = rectangle_proba.generate_random(int(n_pde*proba)).to(device)   # les points pour la pde\n",
    "points_pde_non_proba = rectangle.generate_random(n_pde-int(n_pde*proba)).to(device)   # les points pour la pde\n",
    "points_pde = torch.cat((points_pde_proba, points_pde_non_proba), 0)\n",
    "\n",
    "# On prend des points de data uniquement dans notre rectangle de proba\n",
    "masque = (X[:,0]> x_proba_min)&(X[:,0]< x_proba_max)&(X[:,1]> y_proba_min)&(X[:,1]< y_proba_max)\n",
    "points_data_train_proba = np.random.choice(len(X[masque]), int(n_data*proba), replace=False)\n",
    "inputs_train_data_proba = torch.from_numpy(X[masque][points_data_train_proba]).requires_grad_().to(device)\n",
    "outputs_train_data_proba = torch.from_numpy(U[masque][points_data_train_proba]).requires_grad_().to(device)\n",
    "points_data_train_non_proba = np.random.choice(len(X), n_data-int(n_data*proba), replace=False)\n",
    "inputs_train_data_non_proba = torch.from_numpy(X[points_data_train_non_proba]).requires_grad_().to(device)\n",
    "outputs_train_data_non_proba = torch.from_numpy(U[points_data_train_non_proba]).requires_grad_().to(device)\n",
    "inputs_train_data = torch.cat((inputs_train_data_proba, inputs_train_data_non_proba), 0)\n",
    "outputs_train_data = torch.cat((outputs_train_data_proba, outputs_train_data_non_proba), 0)\n",
    "\n",
    "### Pour test\n",
    "X_test_pde = rectangle.generate_random(n_pde_test).to(device)\n",
    "points_coloc_test = np.random.choice(len(X), n_data_test, replace=False)\n",
    "X_test_data = torch.from_numpy(X[points_coloc_test]).requires_grad_().to(device)\n",
    "U_test_data = torch.from_numpy(U[points_coloc_test]).requires_grad_().to(device)\n",
    "\n",
    "\n",
    "# Initialiser le modèle\n",
    "model = PINNs().to(device)\n",
    "optimizer = optim.Adam(model.parameters(), lr=lr)\n",
    "loss = nn.MSELoss()"
   ]
  },
  {
   "cell_type": "code",
   "execution_count": 20,
   "metadata": {},
   "outputs": [],
   "source": [
    "masque = (X[:,0]> x_proba_min)&(X[:,0]< x_proba_max)&(X[:,1]> y_proba_min)&(X[:,1]< y_proba_max)\n",
    "points_data_train_proba = np.random.choice(len(X[masque]), int(n_data*proba), replace=False)\n",
    "inputs_train_data_proba = torch.from_numpy(X[masque][points_data_train_proba]).requires_grad_().to(device)\n",
    "outputs_train_data_proba = torch.from_numpy(U[masque][points_data_train_proba]).requires_grad_().to(device)\n",
    "points_data_train_non_proba = np.random.choice(len(X), n_data-int(n_data*proba), replace=False)\n",
    "inputs_train_data_non_proba = torch.from_numpy(X[points_data_train_non_proba]).requires_grad_().to(device)\n",
    "outputs_train_data_non_proba = torch.from_numpy(U[points_data_train_non_proba]).requires_grad_().to(device)\n",
    "inputs_train_data = torch.cat((inputs_train_data_proba, inputs_train_data_non_proba), 0)\n",
    "outputs_train_data = torch.cat((outputs_train_data_proba, outputs_train_data_non_proba), 0)"
   ]
  },
  {
   "cell_type": "code",
   "execution_count": 36,
   "metadata": {},
   "outputs": [],
   "source": [
    "points_data_train_proba = np.random.choice(len(X[masque]), int(n_data*proba), replace=False)\n",
    "inputs_train_data_proba = torch.from_numpy(X[masque][points_data_train_proba]).requires_grad_().to(device)\n",
    "outputs_train_data_proba = torch.from_numpy(U[masque][points_data_train_proba]).requires_grad_().to(device)\n",
    "points_data_train_non_proba = np.random.choice(len(X), n_data-int(n_data*proba), replace=False)\n",
    "inputs_train_data_non_proba = torch.from_numpy(X[points_data_train_non_proba]).requires_grad_().to(device)\n",
    "outputs_train_data_non_proba = torch.from_numpy(U[points_data_train_non_proba]).requires_grad_().to(device)\n",
    "inputs_train_data = torch.cat((inputs_train_data_proba, inputs_train_data_non_proba), 0)\n",
    "outputs_train_data = torch.cat((outputs_train_data_proba, outputs_train_data_non_proba), 0)"
   ]
  },
  {
   "cell_type": "code",
   "execution_count": 48,
   "metadata": {},
   "outputs": [
    {
     "data": {
      "text/plain": [
       "(12426, 3)"
      ]
     },
     "execution_count": 48,
     "metadata": {},
     "output_type": "execute_result"
    }
   ],
   "source": [
    "X[masque].shape"
   ]
  },
  {
   "cell_type": "code",
   "execution_count": 39,
   "metadata": {},
   "outputs": [],
   "source": [
    "points_data_train_non_proba = np.random.choice(len(X), n_data-int(n_data*proba), replace=False)\n",
    "inputs_train_data_non_proba = torch.from_numpy(X[points_data_train_non_proba]).requires_grad_().to(device)\n",
    "outputs_train_data_non_proba = torch.from_numpy(U[points_data_train_non_proba]).requires_grad_().to(device)\n",
    "inputs_train_data = torch.cat((inputs_train_data_proba, inputs_train_data_non_proba), 0)\n",
    "outputs_train_data = torch.cat((outputs_train_data_proba, outputs_train_data_non_proba), 0)"
   ]
  },
  {
   "cell_type": "code",
   "execution_count": 46,
   "metadata": {},
   "outputs": [],
   "source": [
    "inputs_train_data = torch.cat((inputs_train_data_proba, inputs_train_data_non_proba), 0)\n",
    "outputs_train_data = torch.cat((outputs_train_data_proba, outputs_train_data_non_proba), 0)"
   ]
  },
  {
   "cell_type": "code",
   "execution_count": 31,
   "metadata": {},
   "outputs": [
    {
     "data": {
      "text/plain": [
       "0.1491799"
      ]
     },
     "execution_count": 31,
     "metadata": {},
     "output_type": "execute_result"
    }
   ],
   "source": [
    "X[masque]"
   ]
  },
  {
   "cell_type": "code",
   "execution_count": 9,
   "metadata": {},
   "outputs": [
    {
     "data": {
      "text/plain": [
       "torch.Size([1000, 3])"
      ]
     },
     "execution_count": 9,
     "metadata": {},
     "output_type": "execute_result"
    }
   ],
   "source": [
    "points_pde_non_proba.shape"
   ]
  },
  {
   "cell_type": "code",
   "execution_count": 10,
   "metadata": {},
   "outputs": [
    {
     "data": {
      "text/plain": [
       "torch.Size([4000, 3])"
      ]
     },
     "execution_count": 10,
     "metadata": {},
     "output_type": "execute_result"
    }
   ],
   "source": [
    "points_pde_proba.shape"
   ]
  },
  {
   "cell_type": "code",
   "execution_count": 11,
   "metadata": {},
   "outputs": [],
   "source": [
    "points_pde = torch.cat((points_pde_proba, points_pde_non_proba), 0)"
   ]
  },
  {
   "cell_type": "code",
   "execution_count": 13,
   "metadata": {},
   "outputs": [
    {
     "data": {
      "text/plain": [
       "torch.Size([5000, 3])"
      ]
     },
     "execution_count": 13,
     "metadata": {},
     "output_type": "execute_result"
    }
   ],
   "source": [
    "points_pde.shape"
   ]
  },
  {
   "cell_type": "code",
   "execution_count": null,
   "metadata": {},
   "outputs": [],
   "source": []
  }
 ],
 "metadata": {
  "kernelspec": {
   "display_name": "base",
   "language": "python",
   "name": "python3"
  },
  "language_info": {
   "codemirror_mode": {
    "name": "ipython",
    "version": 3
   },
   "file_extension": ".py",
   "mimetype": "text/x-python",
   "name": "python",
   "nbconvert_exporter": "python",
   "pygments_lexer": "ipython3",
   "version": "3.11.8"
  }
 },
 "nbformat": 4,
 "nbformat_minor": 2
}
